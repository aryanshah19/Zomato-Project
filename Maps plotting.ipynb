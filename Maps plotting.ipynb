{
 "cells": [
  {
   "cell_type": "code",
   "execution_count": 13,
   "id": "ce57259d",
   "metadata": {},
   "outputs": [
    {
     "name": "stdout",
     "output_type": "stream",
     "text": [
      "Success\n"
     ]
    }
   ],
   "source": [
    "# import pygal library\n",
    "import pygal\n",
    "import pygal_maps_world\n",
    "# create a world map\n",
    "worldmap = pygal_maps_world.maps.World()\n",
    "  \n",
    "# set the title of the map\n",
    "worldmap.title = 'Countries'\n",
    "  \n",
    "# adding the countries\n",
    "worldmap.add('Random Data', {\n",
    "        'in' : 10,\n",
    "        'it' : 30,\n",
    "        'br' : 45,\n",
    "        'gb' : 30,\n",
    "        'us' : 66\n",
    "})\n",
    "  \n",
    "# save into the file\n",
    "worldmap.render_to_file('Aryan.svg')\n",
    "  \n",
    "print(\"Success\")"
   ]
  },
  {
   "cell_type": "code",
   "execution_count": 40,
   "id": "4fd11ae9",
   "metadata": {},
   "outputs": [
    {
     "name": "stdout",
     "output_type": "stream",
     "text": [
      "Success\n"
     ]
    }
   ],
   "source": [
    "# import pygal\n",
    "import pygal\n",
    "\n",
    "# import Style class from pygal.style\n",
    "from pygal.style import Style\n",
    "\n",
    "# create a Style object\n",
    "custom_style = Style( colors = ('#8b0000' , '#b22222' ,'#dc143c' , '#ff4500','#fa8072'))\n",
    "\n",
    "# create a world map,\n",
    "# Style class is used for using\n",
    "# the custom colours in the map,\n",
    "worldmap = pygal_maps_world.maps.World(style= custom_style)\n",
    "\n",
    "# set the title of the map\n",
    "worldmap.title = '% increase in Sad tweets from Pre to Post Covid era'\n",
    "\n",
    "# hex code of colours are used\n",
    "# for every .add() called\n",
    "worldmap.add('India',\n",
    "\t\t\t['in'])\n",
    "\n",
    "worldmap.add('Great Britian',\n",
    "\t\t\t['gb'])\n",
    "\n",
    "worldmap.add('USA',\n",
    "\t\t\t['us'])\n",
    "\n",
    "worldmap.add('Brazil',\n",
    "\t\t\t['br'])\n",
    "\n",
    "worldmap.add ('Italy' ,\n",
    "\t\t\t['it'],\n",
    "\t\t\tcolor = 'black')\n",
    "\n",
    "# save into the file\n",
    "worldmap.render_to_file('abc.svg')\n",
    "\n",
    "print(\"Success\")\n",
    "\n"
   ]
  },
  {
   "cell_type": "code",
   "execution_count": null,
   "id": "19dc6754",
   "metadata": {},
   "outputs": [],
   "source": []
  }
 ],
 "metadata": {
  "kernelspec": {
   "display_name": "Python 3",
   "language": "python",
   "name": "python3"
  },
  "language_info": {
   "codemirror_mode": {
    "name": "ipython",
    "version": 3
   },
   "file_extension": ".py",
   "mimetype": "text/x-python",
   "name": "python",
   "nbconvert_exporter": "python",
   "pygments_lexer": "ipython3",
   "version": "3.9.0"
  }
 },
 "nbformat": 4,
 "nbformat_minor": 5
}
