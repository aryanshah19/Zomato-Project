{
 "cells": [
  {
   "cell_type": "code",
   "execution_count": 1,
   "id": "38289d82",
   "metadata": {},
   "outputs": [],
   "source": [
    "import pandas as pd\n",
    "locations=pd.read_csv(\"rajkot_locations.csv\")"
   ]
  },
  {
   "cell_type": "code",
   "execution_count": 2,
   "id": "bac44d1e",
   "metadata": {},
   "outputs": [
    {
     "data": {
      "text/html": [
       "<div>\n",
       "<style scoped>\n",
       "    .dataframe tbody tr th:only-of-type {\n",
       "        vertical-align: middle;\n",
       "    }\n",
       "\n",
       "    .dataframe tbody tr th {\n",
       "        vertical-align: top;\n",
       "    }\n",
       "\n",
       "    .dataframe thead th {\n",
       "        text-align: right;\n",
       "    }\n",
       "</style>\n",
       "<table border=\"1\" class=\"dataframe\">\n",
       "  <thead>\n",
       "    <tr style=\"text-align: right;\">\n",
       "      <th></th>\n",
       "      <th>index</th>\n",
       "      <th>count</th>\n",
       "    </tr>\n",
       "  </thead>\n",
       "  <tbody>\n",
       "    <tr>\n",
       "      <th>0</th>\n",
       "      <td>Amargadh</td>\n",
       "      <td>5124</td>\n",
       "    </tr>\n",
       "    <tr>\n",
       "      <th>1</th>\n",
       "      <td>Aniyala</td>\n",
       "      <td>2523</td>\n",
       "    </tr>\n",
       "    <tr>\n",
       "      <th>2</th>\n",
       "      <td>Badpar</td>\n",
       "      <td>2504</td>\n",
       "    </tr>\n",
       "    <tr>\n",
       "      <th>3</th>\n",
       "      <td>Barvan</td>\n",
       "      <td>2235</td>\n",
       "    </tr>\n",
       "    <tr>\n",
       "      <th>4</th>\n",
       "      <td>Bedla</td>\n",
       "      <td>2144</td>\n",
       "    </tr>\n",
       "    <tr>\n",
       "      <th>...</th>\n",
       "      <td>...</td>\n",
       "      <td>...</td>\n",
       "    </tr>\n",
       "    <tr>\n",
       "      <th>77</th>\n",
       "      <td>Vadali</td>\n",
       "      <td>27</td>\n",
       "    </tr>\n",
       "    <tr>\n",
       "      <th>78</th>\n",
       "      <td>Vajdi</td>\n",
       "      <td>22</td>\n",
       "    </tr>\n",
       "    <tr>\n",
       "      <th>79</th>\n",
       "      <td>Vajdi Gadh</td>\n",
       "      <td>22</td>\n",
       "    </tr>\n",
       "    <tr>\n",
       "      <th>80</th>\n",
       "      <td>Vankvad</td>\n",
       "      <td>19</td>\n",
       "    </tr>\n",
       "    <tr>\n",
       "      <th>81</th>\n",
       "      <td>Vejagam</td>\n",
       "      <td>18</td>\n",
       "    </tr>\n",
       "  </tbody>\n",
       "</table>\n",
       "<p>82 rows × 2 columns</p>\n",
       "</div>"
      ],
      "text/plain": [
       "         index  count\n",
       "0     Amargadh   5124\n",
       "1      Aniyala   2523\n",
       "2       Badpar   2504\n",
       "3       Barvan   2235\n",
       "4        Bedla   2144\n",
       "..         ...    ...\n",
       "77      Vadali     27\n",
       "78       Vajdi     22\n",
       "79  Vajdi Gadh     22\n",
       "80     Vankvad     19\n",
       "81     Vejagam     18\n",
       "\n",
       "[82 rows x 2 columns]"
      ]
     },
     "execution_count": 2,
     "metadata": {},
     "output_type": "execute_result"
    }
   ],
   "source": [
    "locations"
   ]
  },
  {
   "cell_type": "code",
   "execution_count": 3,
   "id": "a24498a3",
   "metadata": {},
   "outputs": [],
   "source": [
    "locations['new_Name']='Rajkot '+locations['index']"
   ]
  },
  {
   "cell_type": "code",
   "execution_count": 4,
   "id": "b4a6328d",
   "metadata": {},
   "outputs": [
    {
     "data": {
      "text/html": [
       "<div>\n",
       "<style scoped>\n",
       "    .dataframe tbody tr th:only-of-type {\n",
       "        vertical-align: middle;\n",
       "    }\n",
       "\n",
       "    .dataframe tbody tr th {\n",
       "        vertical-align: top;\n",
       "    }\n",
       "\n",
       "    .dataframe thead th {\n",
       "        text-align: right;\n",
       "    }\n",
       "</style>\n",
       "<table border=\"1\" class=\"dataframe\">\n",
       "  <thead>\n",
       "    <tr style=\"text-align: right;\">\n",
       "      <th></th>\n",
       "      <th>index</th>\n",
       "      <th>count</th>\n",
       "      <th>new_Name</th>\n",
       "    </tr>\n",
       "  </thead>\n",
       "  <tbody>\n",
       "    <tr>\n",
       "      <th>0</th>\n",
       "      <td>Amargadh</td>\n",
       "      <td>5124</td>\n",
       "      <td>Rajkot Amargadh</td>\n",
       "    </tr>\n",
       "    <tr>\n",
       "      <th>1</th>\n",
       "      <td>Aniyala</td>\n",
       "      <td>2523</td>\n",
       "      <td>Rajkot Aniyala</td>\n",
       "    </tr>\n",
       "    <tr>\n",
       "      <th>2</th>\n",
       "      <td>Badpar</td>\n",
       "      <td>2504</td>\n",
       "      <td>Rajkot Badpar</td>\n",
       "    </tr>\n",
       "    <tr>\n",
       "      <th>3</th>\n",
       "      <td>Barvan</td>\n",
       "      <td>2235</td>\n",
       "      <td>Rajkot Barvan</td>\n",
       "    </tr>\n",
       "    <tr>\n",
       "      <th>4</th>\n",
       "      <td>Bedla</td>\n",
       "      <td>2144</td>\n",
       "      <td>Rajkot Bedla</td>\n",
       "    </tr>\n",
       "  </tbody>\n",
       "</table>\n",
       "</div>"
      ],
      "text/plain": [
       "      index  count         new_Name\n",
       "0  Amargadh   5124  Rajkot Amargadh\n",
       "1   Aniyala   2523   Rajkot Aniyala\n",
       "2    Badpar   2504    Rajkot Badpar\n",
       "3    Barvan   2235    Rajkot Barvan\n",
       "4     Bedla   2144     Rajkot Bedla"
      ]
     },
     "execution_count": 4,
     "metadata": {},
     "output_type": "execute_result"
    }
   ],
   "source": [
    "locations.head()"
   ]
  },
  {
   "cell_type": "code",
   "execution_count": 5,
   "id": "878fa575",
   "metadata": {},
   "outputs": [],
   "source": [
    "import numpy as np"
   ]
  },
  {
   "cell_type": "code",
   "execution_count": 6,
   "id": "b05eb260",
   "metadata": {},
   "outputs": [],
   "source": [
    "from geopy.geocoders import Nominatim"
   ]
  },
  {
   "cell_type": "code",
   "execution_count": 7,
   "id": "4c9a2067",
   "metadata": {},
   "outputs": [],
   "source": [
    "lat=[]\n",
    "lon=[]\n",
    "geolocator=Nominatim(user_agent=\"app\")\n",
    "for location in locations['index']:\n",
    "    location = geolocator.geocode(location)\n",
    "    if location is None:\n",
    "        lat.append(np.nan)\n",
    "        lon.append(np.nan)\n",
    "    else:    \n",
    "        lat.append(location.latitude)\n",
    "        lon.append(location.longitude)"
   ]
  },
  {
   "cell_type": "code",
   "execution_count": 8,
   "id": "d6fd45fe",
   "metadata": {},
   "outputs": [],
   "source": [
    "locations['latitude']=lat\n",
    "locations['longitude']=lon"
   ]
  },
  {
   "cell_type": "code",
   "execution_count": 20,
   "id": "e128548c",
   "metadata": {},
   "outputs": [
    {
     "data": {
      "text/html": [
       "<div>\n",
       "<style scoped>\n",
       "    .dataframe tbody tr th:only-of-type {\n",
       "        vertical-align: middle;\n",
       "    }\n",
       "\n",
       "    .dataframe tbody tr th {\n",
       "        vertical-align: top;\n",
       "    }\n",
       "\n",
       "    .dataframe thead th {\n",
       "        text-align: right;\n",
       "    }\n",
       "</style>\n",
       "<table border=\"1\" class=\"dataframe\">\n",
       "  <thead>\n",
       "    <tr style=\"text-align: right;\">\n",
       "      <th></th>\n",
       "      <th>index</th>\n",
       "      <th>count</th>\n",
       "      <th>new_Name</th>\n",
       "      <th>latitude</th>\n",
       "      <th>longitude</th>\n",
       "    </tr>\n",
       "  </thead>\n",
       "  <tbody>\n",
       "    <tr>\n",
       "      <th>0</th>\n",
       "      <td>Amargadh</td>\n",
       "      <td>5124</td>\n",
       "      <td>Rajkot Amargadh</td>\n",
       "      <td>23.307434</td>\n",
       "      <td>69.059766</td>\n",
       "    </tr>\n",
       "    <tr>\n",
       "      <th>1</th>\n",
       "      <td>Aniyala</td>\n",
       "      <td>2523</td>\n",
       "      <td>Rajkot Aniyala</td>\n",
       "      <td>25.918854</td>\n",
       "      <td>76.685064</td>\n",
       "    </tr>\n",
       "    <tr>\n",
       "      <th>2</th>\n",
       "      <td>Badpar</td>\n",
       "      <td>2504</td>\n",
       "      <td>Rajkot Badpar</td>\n",
       "      <td>NaN</td>\n",
       "      <td>NaN</td>\n",
       "    </tr>\n",
       "    <tr>\n",
       "      <th>3</th>\n",
       "      <td>Barvan</td>\n",
       "      <td>2235</td>\n",
       "      <td>Rajkot Barvan</td>\n",
       "      <td>NaN</td>\n",
       "      <td>NaN</td>\n",
       "    </tr>\n",
       "    <tr>\n",
       "      <th>4</th>\n",
       "      <td>Bedla</td>\n",
       "      <td>2144</td>\n",
       "      <td>Rajkot Bedla</td>\n",
       "      <td>48.739270</td>\n",
       "      <td>21.177374</td>\n",
       "    </tr>\n",
       "    <tr>\n",
       "      <th>...</th>\n",
       "      <td>...</td>\n",
       "      <td>...</td>\n",
       "      <td>...</td>\n",
       "      <td>...</td>\n",
       "      <td>...</td>\n",
       "    </tr>\n",
       "    <tr>\n",
       "      <th>77</th>\n",
       "      <td>Vadali</td>\n",
       "      <td>27</td>\n",
       "      <td>Rajkot Vadali</td>\n",
       "      <td>23.941112</td>\n",
       "      <td>73.040375</td>\n",
       "    </tr>\n",
       "    <tr>\n",
       "      <th>78</th>\n",
       "      <td>Vajdi</td>\n",
       "      <td>22</td>\n",
       "      <td>Rajkot Vajdi</td>\n",
       "      <td>22.260675</td>\n",
       "      <td>70.707458</td>\n",
       "    </tr>\n",
       "    <tr>\n",
       "      <th>79</th>\n",
       "      <td>Vajdi Gadh</td>\n",
       "      <td>22</td>\n",
       "      <td>Rajkot Vajdi Gadh</td>\n",
       "      <td>NaN</td>\n",
       "      <td>NaN</td>\n",
       "    </tr>\n",
       "    <tr>\n",
       "      <th>80</th>\n",
       "      <td>Vankvad</td>\n",
       "      <td>19</td>\n",
       "      <td>Rajkot Vankvad</td>\n",
       "      <td>NaN</td>\n",
       "      <td>NaN</td>\n",
       "    </tr>\n",
       "    <tr>\n",
       "      <th>81</th>\n",
       "      <td>Vejagam</td>\n",
       "      <td>18</td>\n",
       "      <td>Rajkot Vejagam</td>\n",
       "      <td>NaN</td>\n",
       "      <td>NaN</td>\n",
       "    </tr>\n",
       "  </tbody>\n",
       "</table>\n",
       "<p>82 rows × 5 columns</p>\n",
       "</div>"
      ],
      "text/plain": [
       "         index  count           new_Name   latitude  longitude\n",
       "0     Amargadh   5124    Rajkot Amargadh  23.307434  69.059766\n",
       "1      Aniyala   2523     Rajkot Aniyala  25.918854  76.685064\n",
       "2       Badpar   2504      Rajkot Badpar        NaN        NaN\n",
       "3       Barvan   2235      Rajkot Barvan        NaN        NaN\n",
       "4        Bedla   2144       Rajkot Bedla  48.739270  21.177374\n",
       "..         ...    ...                ...        ...        ...\n",
       "77      Vadali     27      Rajkot Vadali  23.941112  73.040375\n",
       "78       Vajdi     22       Rajkot Vajdi  22.260675  70.707458\n",
       "79  Vajdi Gadh     22  Rajkot Vajdi Gadh        NaN        NaN\n",
       "80     Vankvad     19     Rajkot Vankvad        NaN        NaN\n",
       "81     Vejagam     18     Rajkot Vejagam        NaN        NaN\n",
       "\n",
       "[82 rows x 5 columns]"
      ]
     },
     "execution_count": 20,
     "metadata": {},
     "output_type": "execute_result"
    }
   ],
   "source": [
    "locations"
   ]
  },
  {
   "cell_type": "code",
   "execution_count": 24,
   "id": "75db6cb5",
   "metadata": {},
   "outputs": [],
   "source": [
    "locations= locations[locations['latitude'].notna()]"
   ]
  },
  {
   "cell_type": "code",
   "execution_count": 25,
   "id": "bb2a31fb",
   "metadata": {},
   "outputs": [
    {
     "data": {
      "text/plain": [
       "index        0\n",
       "count        0\n",
       "new_Name     0\n",
       "latitude     0\n",
       "longitude    0\n",
       "dtype: int64"
      ]
     },
     "execution_count": 25,
     "metadata": {},
     "output_type": "execute_result"
    }
   ],
   "source": [
    "locations.isnull().sum()"
   ]
  },
  {
   "cell_type": "code",
   "execution_count": 26,
   "id": "bebfd4c5",
   "metadata": {},
   "outputs": [],
   "source": [
    "def generateBaseMap(default_location=[12.97, 77.59], default_zoom_start=12):\n",
    "    base_map = folium.Map(location=default_location, zoom_start=default_zoom_start)\n",
    "    return base_map"
   ]
  },
  {
   "cell_type": "code",
   "execution_count": 27,
   "id": "79a696cf",
   "metadata": {},
   "outputs": [],
   "source": [
    "import folium\n",
    "from folium.plugins import HeatMap\n",
    "basemap=generateBaseMap()"
   ]
  },
  {
   "cell_type": "markdown",
   "id": "e1167cf2",
   "metadata": {},
   "source": [
    "#### Heatmap of Restaurant"
   ]
  },
  {
   "cell_type": "code",
   "execution_count": 28,
   "id": "f2f7c95d",
   "metadata": {},
   "outputs": [
    {
     "data": {
      "text/plain": [
       "<folium.plugins.heat_map.HeatMap at 0x7fee7aae0700>"
      ]
     },
     "execution_count": 28,
     "metadata": {},
     "output_type": "execute_result"
    }
   ],
   "source": [
    "HeatMap(locations[['latitude','longitude','count']].values.tolist(),zoom=20,radius=15).add_to(basemap)"
   ]
  },
  {
   "cell_type": "code",
   "execution_count": 29,
   "id": "f4c4b904",
   "metadata": {},
   "outputs": [
    {
     "data": {
      "text/html": [
       "<div style=\"width:100%;\"><div style=\"position:relative;width:100%;height:0;padding-bottom:60%;\"><span style=\"color:#565656\">Make this Notebook Trusted to load map: File -> Trust Notebook</span><iframe src=\"about:blank\" style=\"position:absolute;width:100%;height:100%;left:0;top:0;border:none !important;\" data-html=%3C%21DOCTYPE%20html%3E%0A%3Chead%3E%20%20%20%20%0A%20%20%20%20%3Cmeta%20http-equiv%3D%22content-type%22%20content%3D%22text/html%3B%20charset%3DUTF-8%22%20/%3E%0A%20%20%20%20%0A%20%20%20%20%20%20%20%20%3Cscript%3E%0A%20%20%20%20%20%20%20%20%20%20%20%20L_NO_TOUCH%20%3D%20false%3B%0A%20%20%20%20%20%20%20%20%20%20%20%20L_DISABLE_3D%20%3D%20false%3B%0A%20%20%20%20%20%20%20%20%3C/script%3E%0A%20%20%20%20%0A%20%20%20%20%3Cstyle%3Ehtml%2C%20body%20%7Bwidth%3A%20100%25%3Bheight%3A%20100%25%3Bmargin%3A%200%3Bpadding%3A%200%3B%7D%3C/style%3E%0A%20%20%20%20%3Cstyle%3E%23map%20%7Bposition%3Aabsolute%3Btop%3A0%3Bbottom%3A0%3Bright%3A0%3Bleft%3A0%3B%7D%3C/style%3E%0A%20%20%20%20%3Cscript%20src%3D%22https%3A//cdn.jsdelivr.net/npm/leaflet%401.6.0/dist/leaflet.js%22%3E%3C/script%3E%0A%20%20%20%20%3Cscript%20src%3D%22https%3A//code.jquery.com/jquery-1.12.4.min.js%22%3E%3C/script%3E%0A%20%20%20%20%3Cscript%20src%3D%22https%3A//maxcdn.bootstrapcdn.com/bootstrap/3.2.0/js/bootstrap.min.js%22%3E%3C/script%3E%0A%20%20%20%20%3Cscript%20src%3D%22https%3A//cdnjs.cloudflare.com/ajax/libs/Leaflet.awesome-markers/2.0.2/leaflet.awesome-markers.js%22%3E%3C/script%3E%0A%20%20%20%20%3Clink%20rel%3D%22stylesheet%22%20href%3D%22https%3A//cdn.jsdelivr.net/npm/leaflet%401.6.0/dist/leaflet.css%22/%3E%0A%20%20%20%20%3Clink%20rel%3D%22stylesheet%22%20href%3D%22https%3A//maxcdn.bootstrapcdn.com/bootstrap/3.2.0/css/bootstrap.min.css%22/%3E%0A%20%20%20%20%3Clink%20rel%3D%22stylesheet%22%20href%3D%22https%3A//maxcdn.bootstrapcdn.com/bootstrap/3.2.0/css/bootstrap-theme.min.css%22/%3E%0A%20%20%20%20%3Clink%20rel%3D%22stylesheet%22%20href%3D%22https%3A//maxcdn.bootstrapcdn.com/font-awesome/4.6.3/css/font-awesome.min.css%22/%3E%0A%20%20%20%20%3Clink%20rel%3D%22stylesheet%22%20href%3D%22https%3A//cdnjs.cloudflare.com/ajax/libs/Leaflet.awesome-markers/2.0.2/leaflet.awesome-markers.css%22/%3E%0A%20%20%20%20%3Clink%20rel%3D%22stylesheet%22%20href%3D%22https%3A//cdn.jsdelivr.net/gh/python-visualization/folium/folium/templates/leaflet.awesome.rotate.min.css%22/%3E%0A%20%20%20%20%0A%20%20%20%20%20%20%20%20%20%20%20%20%3Cmeta%20name%3D%22viewport%22%20content%3D%22width%3Ddevice-width%2C%0A%20%20%20%20%20%20%20%20%20%20%20%20%20%20%20%20initial-scale%3D1.0%2C%20maximum-scale%3D1.0%2C%20user-scalable%3Dno%22%20/%3E%0A%20%20%20%20%20%20%20%20%20%20%20%20%3Cstyle%3E%0A%20%20%20%20%20%20%20%20%20%20%20%20%20%20%20%20%23map_d77a48e21c3b4b62a626428d978e190a%20%7B%0A%20%20%20%20%20%20%20%20%20%20%20%20%20%20%20%20%20%20%20%20position%3A%20relative%3B%0A%20%20%20%20%20%20%20%20%20%20%20%20%20%20%20%20%20%20%20%20width%3A%20100.0%25%3B%0A%20%20%20%20%20%20%20%20%20%20%20%20%20%20%20%20%20%20%20%20height%3A%20100.0%25%3B%0A%20%20%20%20%20%20%20%20%20%20%20%20%20%20%20%20%20%20%20%20left%3A%200.0%25%3B%0A%20%20%20%20%20%20%20%20%20%20%20%20%20%20%20%20%20%20%20%20top%3A%200.0%25%3B%0A%20%20%20%20%20%20%20%20%20%20%20%20%20%20%20%20%7D%0A%20%20%20%20%20%20%20%20%20%20%20%20%3C/style%3E%0A%20%20%20%20%20%20%20%20%0A%20%20%20%20%3Cscript%20src%3D%22https%3A//cdn.jsdelivr.net/gh/python-visualization/folium%40master/folium/templates/leaflet_heat.min.js%22%3E%3C/script%3E%0A%3C/head%3E%0A%3Cbody%3E%20%20%20%20%0A%20%20%20%20%0A%20%20%20%20%20%20%20%20%20%20%20%20%3Cdiv%20class%3D%22folium-map%22%20id%3D%22map_d77a48e21c3b4b62a626428d978e190a%22%20%3E%3C/div%3E%0A%20%20%20%20%20%20%20%20%0A%3C/body%3E%0A%3Cscript%3E%20%20%20%20%0A%20%20%20%20%0A%20%20%20%20%20%20%20%20%20%20%20%20var%20map_d77a48e21c3b4b62a626428d978e190a%20%3D%20L.map%28%0A%20%20%20%20%20%20%20%20%20%20%20%20%20%20%20%20%22map_d77a48e21c3b4b62a626428d978e190a%22%2C%0A%20%20%20%20%20%20%20%20%20%20%20%20%20%20%20%20%7B%0A%20%20%20%20%20%20%20%20%20%20%20%20%20%20%20%20%20%20%20%20center%3A%20%5B12.97%2C%2077.59%5D%2C%0A%20%20%20%20%20%20%20%20%20%20%20%20%20%20%20%20%20%20%20%20crs%3A%20L.CRS.EPSG3857%2C%0A%20%20%20%20%20%20%20%20%20%20%20%20%20%20%20%20%20%20%20%20zoom%3A%2012%2C%0A%20%20%20%20%20%20%20%20%20%20%20%20%20%20%20%20%20%20%20%20zoomControl%3A%20true%2C%0A%20%20%20%20%20%20%20%20%20%20%20%20%20%20%20%20%20%20%20%20preferCanvas%3A%20false%2C%0A%20%20%20%20%20%20%20%20%20%20%20%20%20%20%20%20%7D%0A%20%20%20%20%20%20%20%20%20%20%20%20%29%3B%0A%0A%20%20%20%20%20%20%20%20%20%20%20%20%0A%0A%20%20%20%20%20%20%20%20%0A%20%20%20%20%0A%20%20%20%20%20%20%20%20%20%20%20%20var%20tile_layer_902da9d3653746b397c5e186773c4f34%20%3D%20L.tileLayer%28%0A%20%20%20%20%20%20%20%20%20%20%20%20%20%20%20%20%22https%3A//%7Bs%7D.tile.openstreetmap.org/%7Bz%7D/%7Bx%7D/%7By%7D.png%22%2C%0A%20%20%20%20%20%20%20%20%20%20%20%20%20%20%20%20%7B%22attribution%22%3A%20%22Data%20by%20%5Cu0026copy%3B%20%5Cu003ca%20href%3D%5C%22http%3A//openstreetmap.org%5C%22%5Cu003eOpenStreetMap%5Cu003c/a%5Cu003e%2C%20under%20%5Cu003ca%20href%3D%5C%22http%3A//www.openstreetmap.org/copyright%5C%22%5Cu003eODbL%5Cu003c/a%5Cu003e.%22%2C%20%22detectRetina%22%3A%20false%2C%20%22maxNativeZoom%22%3A%2018%2C%20%22maxZoom%22%3A%2018%2C%20%22minZoom%22%3A%200%2C%20%22noWrap%22%3A%20false%2C%20%22opacity%22%3A%201%2C%20%22subdomains%22%3A%20%22abc%22%2C%20%22tms%22%3A%20false%7D%0A%20%20%20%20%20%20%20%20%20%20%20%20%29.addTo%28map_d77a48e21c3b4b62a626428d978e190a%29%3B%0A%20%20%20%20%20%20%20%20%0A%20%20%20%20%0A%20%20%20%20%20%20%20%20%20%20%20%20var%20heat_map_92dd8a0856d04c618c881142988c9ae9%20%3D%20L.heatLayer%28%0A%20%20%20%20%20%20%20%20%20%20%20%20%20%20%20%20%5B%5B23.3074337%2C%2069.0597663%2C%205124.0%5D%2C%20%5B25.9188543%2C%2076.6850638%2C%202523.0%5D%2C%20%5B48.7392698%2C%2021.1773741%2C%202144.0%5D%2C%20%5B21.4160394%2C%2074.0326324%2C%202083.0%5D%2C%20%5B48.4240173%2C%204.3336815%2C%201258.0%5D%2C%20%5B25.9970871%2C%2073.0313158%2C%201218.0%5D%2C%20%5B9.2674192%2C%2046.3762991%2C%201023.0%5D%2C%20%5B10.7875916%2C%2011.8533278%2C%20906.0%5D%2C%20%5B22.4335156%2C%2070.4800542%2C%20853.0%5D%2C%20%5B22.4335156%2C%2070.4800542%2C%20812.0%5D%2C%20%5B43.6241774%2C%20-79.5667879%2C%20727.0%5D%2C%20%5B23.003091%2C%2071.518144%2C%20725.0%5D%2C%20%5B26.16761%2C%2074.6050214%2C%20664.0%5D%2C%20%5B29.7722004%2C%2079.203422%2C%20591.0%5D%2C%20%5B20.0997492%2C%2073.0166903%2C%20499.0%5D%2C%20%5B21.5494543%2C%2070.9974001%2C%20496.0%5D%2C%20%5B22.4296543%2C%2070.8440709%2C%20446.0%5D%2C%20%5B22.3141856%2C%2070.8353128%2C%20370.0%5D%2C%20%5B23.2089407%2C%2070.0800785%2C%20352.0%5D%2C%20%5B53.3270894%2C%209.8752096%2C%20238.0%5D%2C%20%5B23.3276169%2C%2069.6280968%2C%20216.0%5D%2C%20%5B23.7458406%2C%2070.6842971%2C%20191.0%5D%2C%20%5B18.639647%2C%2083.6792417%2C%20165.0%5D%2C%20%5B-7.9428496%2C%20113.8795073%2C%20161.0%5D%2C%20%5B22.095403%2C%2070.7751729%2C%20151.0%5D%2C%20%5B21.4567744%2C%2070.8872733%2C%20139.0%5D%2C%20%5B23.0060288%2C%2071.5640722%2C%20126.0%5D%2C%20%5B27.16428985%2C%2081.3584863058901%2C%20119.0%5D%2C%20%5B22.5313573%2C%2070.95051885521764%2C%20117.0%5D%2C%20%5B22.5313573%2C%2070.95051885521764%2C%20113.0%5D%2C%20%5B16.8945807%2C%2073.29942860670758%2C%20102.0%5D%2C%20%5B23.8602874%2C%2070.3641094%2C%20102.0%5D%2C%20%5B31.6076432%2C%2074.33856336290322%2C%20101.0%5D%2C%20%5B21.4347613%2C%2070.9719175%2C%2080.0%5D%2C%20%5B21.5723615%2C%2071.0916079%2C%2076.0%5D%2C%20%5B40.0912813%2C%209.0305773%2C%2063.0%5D%2C%20%5B22.1396826%2C%2070.9852307%2C%2053.0%5D%2C%20%5B32.0255693%2C%2076.6120326%2C%2027.0%5D%2C%20%5B23.9411124%2C%2073.0403755%2C%2027.0%5D%2C%20%5B22.2606753%2C%2070.7074584%2C%2022.0%5D%5D%2C%0A%20%20%20%20%20%20%20%20%20%20%20%20%20%20%20%20%7B%22blur%22%3A%2015%2C%20%22maxZoom%22%3A%2018%2C%20%22minOpacity%22%3A%200.5%2C%20%22radius%22%3A%2015%2C%20%22zoom%22%3A%2020%7D%0A%20%20%20%20%20%20%20%20%20%20%20%20%29.addTo%28map_d77a48e21c3b4b62a626428d978e190a%29%3B%0A%20%20%20%20%20%20%20%20%0A%3C/script%3E onload=\"this.contentDocument.open();this.contentDocument.write(    decodeURIComponent(this.getAttribute('data-html')));this.contentDocument.close();\" allowfullscreen webkitallowfullscreen mozallowfullscreen></iframe></div></div>"
      ],
      "text/plain": [
       "<folium.folium.Map at 0x7fee79a34970>"
      ]
     },
     "execution_count": 29,
     "metadata": {},
     "output_type": "execute_result"
    }
   ],
   "source": [
    "basemap"
   ]
  },
  {
   "cell_type": "markdown",
   "id": "d61eb8e9",
   "metadata": {},
   "source": [
    "#### wordcloud of Customer Preference "
   ]
  },
  {
   "cell_type": "code",
   "execution_count": null,
   "id": "e34cb67e",
   "metadata": {},
   "outputs": [],
   "source": []
  }
 ],
 "metadata": {
  "kernelspec": {
   "display_name": "Python 3",
   "language": "python",
   "name": "python3"
  },
  "language_info": {
   "codemirror_mode": {
    "name": "ipython",
    "version": 3
   },
   "file_extension": ".py",
   "mimetype": "text/x-python",
   "name": "python",
   "nbconvert_exporter": "python",
   "pygments_lexer": "ipython3",
   "version": "3.9.0"
  }
 },
 "nbformat": 4,
 "nbformat_minor": 5
}
